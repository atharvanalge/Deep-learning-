{
 "cells": [
  {
   "cell_type": "markdown",
   "id": "fe19ec20",
   "metadata": {},
   "source": [
    "# ATHARVA NALGE\n"
   ]
  },
  {
   "cell_type": "code",
   "execution_count": 17,
   "id": "276fa1f7",
   "metadata": {},
   "outputs": [
    {
     "name": "stdout",
     "output_type": "stream",
     "text": [
      "1.0\n",
      "1.0\n",
      "[-1. -1.]\n",
      "Accuracy on training data: 0.5\n"
     ]
    }
   ],
   "source": [
    "import numpy as np\n",
    "\n",
    "class Perceptron:\n",
    "    def __init__(self, learning_rate=0.1):\n",
    "        self.learning_rate = learning_rate\n",
    "        self.weights = None\n",
    "        self.bias = None\n",
    "\n",
    "    def fit(self, X, y):\n",
    "        \"\"\"Trains the perceptron on the given data.\n",
    "\n",
    "        Args:\n",
    "            X: A numpy array of shape (n_samples, n_features), where n_samples is the number of training examples\n",
    "                and n_features is the number of features.\n",
    "            y: A numpy array of shape (n_samples,), where y[i] is the target label for the i-th training example.\n",
    "        \"\"\"\n",
    "\n",
    "        # Initialize the weights and bias.\n",
    "        self.weights = np.random.randn(X.shape[1])\n",
    "        self.bias = np.random.randn()\n",
    "\n",
    "        # Iterate over the training data and update the weights and bias using the perceptron learning rule.\n",
    "        for i in range(len(X)):\n",
    "            x = X[i]\n",
    "            y_pred = self.predict(x)\n",
    "            error = y[i] - y_pred\n",
    "\n",
    "            # Update the weights and bias using the gradient descent rule.\n",
    "            self.weights += self.learning_rate * error * x\n",
    "            self.bias += self.learning_rate * error\n",
    "\n",
    "    def predict(self, x):\n",
    "        \"\"\"Predicts the class label for the given input.\n",
    "\n",
    "        Args:\n",
    "            x: A numpy array of shape (n_features,), where n_features is the number of features.\n",
    "\n",
    "        Returns:\n",
    "            A numpy array of shape (1,), where the first element is the predicted class label.\n",
    "        \"\"\"\n",
    "\n",
    "        y_pred = np.dot(self.weights, x) + self.bias\n",
    "        y_pred = np.sign(y_pred)\n",
    "        print(y_pred)\n",
    "        return y_pred\n",
    "\n",
    "\n",
    "def main():\n",
    "    # Load the training data.\n",
    "    X_train = np.array([[1, 2], [3, 4]])\n",
    "    y_train = np.array([1, -1])\n",
    "\n",
    "    # Create a new Perceptron object.\n",
    "    perceptron = Perceptron()\n",
    "\n",
    "    # Train the perceptron on the training data.\n",
    "    perceptron.fit(X_train, y_train)\n",
    "\n",
    "    # Make predictions on the training data.\n",
    "    y_pred = perceptron.predict(X_train)\n",
    "\n",
    "    # Calculate the accuracy on the training data.\n",
    "    accuracy = np.mean(y_pred == y_train)\n",
    "\n",
    "    print('Accuracy on training data:', accuracy)\n",
    "\n",
    "\n",
    "if __name__ == '__main__':\n",
    "    main()\n"
   ]
  }
 ],
 "metadata": {
  "kernelspec": {
   "display_name": "Python 3 (ipykernel)",
   "language": "python",
   "name": "python3"
  },
  "language_info": {
   "codemirror_mode": {
    "name": "ipython",
    "version": 3
   },
   "file_extension": ".py",
   "mimetype": "text/x-python",
   "name": "python",
   "nbconvert_exporter": "python",
   "pygments_lexer": "ipython3",
   "version": "3.11.5"
  }
 },
 "nbformat": 4,
 "nbformat_minor": 5
}
