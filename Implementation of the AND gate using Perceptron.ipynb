{
 "cells": [
  {
   "cell_type": "markdown",
   "id": "c96469d0",
   "metadata": {},
   "source": [
    "# ATHARVA NALGE\n",
    "\n"
   ]
  },
  {
   "cell_type": "code",
   "execution_count": 1,
   "id": "8caec5ae",
   "metadata": {},
   "outputs": [
    {
     "name": "stdout",
     "output_type": "stream",
     "text": [
      "Initial weights: [0.2 0.3]\n",
      "-0.3 0\n",
      "Updated weights after iteration  : 0 are [0.2 0.3]\n",
      "Error: 0\n",
      "0.0 0\n",
      "Updated weights after iteration  : 0 are [0.2 0.3]\n",
      "Error: 0\n",
      "-0.09999999999999998 0\n",
      "Updated weights after iteration  : 0 are [0.2 0.3]\n",
      "Error: 0\n",
      "0.2 1\n",
      "Updated weights after iteration  : 0 are [0.2 0.3]\n",
      "Error: 0\n",
      "Final Weights are [0.2 0.3]\n"
     ]
    }
   ],
   "source": [
    "# AND GATES \n",
    "import numpy as np\n",
    "np.set_printoptions(suppress=True) # TO avoid e^ values\n",
    "# DECLARING PARAMETERS\n",
    "p1 = np.array([0,0]) # FALSE\n",
    "p2 = np.array([0,1]) # FLASE\n",
    "p3 = np.array([1,0]) # FLASE\n",
    "p4 = np.array([1,1]) # TRUE\n",
    "w = np.array([0.2,0.3]) # RANDOM Initialization of Weights\n",
    "lr = 1 # Learning rate\n",
    "t1, t2, t3,t4 = 0, 0,0, 1 # AND GATE IS TURE IF BOTH INPUTS ARE HIGH\n",
    "\n",
    "# Activation function (step function in this case)\n",
    "def activation_function(net): \n",
    "    if net > 0: \n",
    "        return 1\n",
    "    else:\n",
    "        return 0\n",
    "\n",
    "# Training\n",
    "def train_perceptron(inputs, target, weights, learning_rate): # Function with input paramereter\n",
    "    net = np.dot(weights, inputs)-0.3  # calculating w*input\n",
    "    predicted_output = activation_function(net) # Activiation function call\n",
    "    print(net,predicted_output)\n",
    "    error = target - predicted_output # Calculating error if the predicted output is meeting target then error is zero\n",
    "    new_weights = weights + learning_rate * error * inputs # If error is zero the second term will be zero so the weights are not updated\n",
    "    new_weights = new_weights.astype(float) \n",
    "    return new_weights, error\n",
    "\n",
    "\n",
    "print(\"Initial weights:\", w)\n",
    "\n",
    "counter=0\n",
    "j=0\n",
    "while(counter !=4):\n",
    "    for i in range(1,5):\n",
    "        if(i==1):\n",
    "            p,t=p1,t1\n",
    "        elif(i==2):\n",
    "            p,t=p2,t2\n",
    "        elif(i==3):\n",
    "            p,t=p3,t3\n",
    "        else:\n",
    "            p,t=p4,t4\n",
    "        w, err = train_perceptron(p,t, w, lr)\n",
    "        print(\"Updated weights after iteration  :\",j,'are', w)\n",
    "        print(\"Error:\", err)\n",
    "        if(err==0):\n",
    "            counter +=1\n",
    "    if counter==4:\n",
    "        print(\"Final Weights are\",w)\n",
    "        break\n",
    "        \n",
    "    else :\n",
    "        counter=0\n",
    "    j +=1\n",
    "\n",
    "    \n",
    "\n",
    "    \n"
   ]
  }
 ],
 "metadata": {
  "kernelspec": {
   "display_name": "Python 3 (ipykernel)",
   "language": "python",
   "name": "python3"
  },
  "language_info": {
   "codemirror_mode": {
    "name": "ipython",
    "version": 3
   },
   "file_extension": ".py",
   "mimetype": "text/x-python",
   "name": "python",
   "nbconvert_exporter": "python",
   "pygments_lexer": "ipython3",
   "version": "3.11.5"
  }
 },
 "nbformat": 4,
 "nbformat_minor": 5
}
