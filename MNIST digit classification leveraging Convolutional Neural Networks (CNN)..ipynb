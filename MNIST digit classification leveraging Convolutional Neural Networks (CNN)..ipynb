{
 "cells": [
  {
   "cell_type": "markdown",
   "id": "f073e8c0",
   "metadata": {},
   "source": [
    "# ATHARVA NALGE"
   ]
  },
  {
   "cell_type": "code",
   "execution_count": 1,
   "id": "432f08b8",
   "metadata": {},
   "outputs": [
    {
     "name": "stdout",
     "output_type": "stream",
     "text": [
      "Epoch 1/5\n",
      "938/938 [==============================] - 28s 28ms/step - loss: 0.1799 - accuracy: 0.9459\n",
      "Epoch 2/5\n",
      "938/938 [==============================] - 31s 33ms/step - loss: 0.0543 - accuracy: 0.9835\n",
      "Epoch 3/5\n",
      "938/938 [==============================] - 29s 31ms/step - loss: 0.0394 - accuracy: 0.9873\n",
      "Epoch 4/5\n",
      "938/938 [==============================] - 30s 32ms/step - loss: 0.0302 - accuracy: 0.9902\n",
      "Epoch 5/5\n",
      "938/938 [==============================] - 29s 31ms/step - loss: 0.0243 - accuracy: 0.9922\n",
      "313/313 [==============================] - 3s 8ms/step - loss: 0.0309 - accuracy: 0.9892\n",
      "Test accuracy: 0.9891999959945679\n"
     ]
    }
   ],
   "source": [
    "import tensorflow as tf\n",
    "from tensorflow import keras\n",
    "from tensorflow.keras import layers\n",
    "\n",
    "# Load the MNIST dataset\n",
    "(x_train, y_train), (x_test, y_test) = keras.datasets.mnist.load_data()\n",
    "\n",
    "# Normalize pixel values to the range [0, 1]\n",
    "x_train, x_test = x_train / 255.0, x_test / 255.0\n",
    "\n",
    "# Build the CNN model\n",
    "model = keras.Sequential([\n",
    "    layers.Input(shape=(28, 28, 1)),  # Input layer for the MNIST images\n",
    "    layers.Conv2D(32, (3, 3), activation='relu'),  # 32 convolutional filters\n",
    "    layers.MaxPooling2D((2, 2)),  # Max-pooling layer\n",
    "    layers.Conv2D(64, (3, 3), activation='relu'),  # 64 convolutional filters\n",
    "    layers.MaxPooling2D((2, 2)),  # Max-pooling layer\n",
    "    layers.Flatten(),  # Flatten the 2D data to 1D\n",
    "    layers.Dense(64, activation='relu'),  # Fully connected hidden layer\n",
    "    layers.Dense(10, activation='softmax')  # Output layer with 10 classes (0-9)\n",
    "])\n",
    "\n",
    "# Compile the model\n",
    "model.compile(optimizer='adam',\n",
    "              loss='sparse_categorical_crossentropy',\n",
    "              metrics=['accuracy'])\n",
    "\n",
    "# Train the model\n",
    "model.fit(x_train, y_train, epochs=5, batch_size=64)\n",
    "\n",
    "# Evaluate the model on the test data\n",
    "test_loss, test_acc = model.evaluate(x_test, y_test)\n",
    "print(f\"Test accuracy: {test_acc}\")\n"
   ]
  }
 ],
 "metadata": {
  "kernelspec": {
   "display_name": "Python 3 (ipykernel)",
   "language": "python",
   "name": "python3"
  },
  "language_info": {
   "codemirror_mode": {
    "name": "ipython",
    "version": 3
   },
   "file_extension": ".py",
   "mimetype": "text/x-python",
   "name": "python",
   "nbconvert_exporter": "python",
   "pygments_lexer": "ipython3",
   "version": "3.11.5"
  }
 },
 "nbformat": 4,
 "nbformat_minor": 5
}
