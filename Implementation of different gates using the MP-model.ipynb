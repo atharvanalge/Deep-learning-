{
 "cells": [
  {
   "cell_type": "markdown",
   "id": "9414a5bf",
   "metadata": {},
   "source": [
    "## ATHARVA NALGE"
   ]
  },
  {
   "cell_type": "markdown",
   "id": "a052c412",
   "metadata": {},
   "source": [
    "# AND GATE"
   ]
  },
  {
   "cell_type": "code",
   "execution_count": 3,
   "id": "dc61bbc7",
   "metadata": {},
   "outputs": [
    {
     "name": "stdout",
     "output_type": "stream",
     "text": [
      "0 | 0 | 0\n",
      "0 | 1 | 0\n",
      "1 | 0 | 0\n",
      "1 | 1 | 1\n",
      "Threshold for and gate is  2\n"
     ]
    }
   ],
   "source": [
    "# twoinput and gate\n",
    "\n",
    "for x1 in range(0,2):\n",
    "    for x2 in range(0,2):\n",
    "        if (x1 and x2):\n",
    "            y=1\n",
    "        else:\n",
    "            y= 0\n",
    "        print(f\"{x1} | {x2} | {y}\")\n",
    "        if y==1:\n",
    "            thres= x1+x2\n",
    "            print(\"Threshold for and gate is \",thres)"
   ]
  },
  {
   "cell_type": "code",
   "execution_count": 4,
   "id": "0ba52d79",
   "metadata": {},
   "outputs": [
    {
     "name": "stdout",
     "output_type": "stream",
     "text": [
      "x1| x2| x3| y\n",
      "0 | 0 | 0 | 0\n",
      "0 | 0 | 1 | 0\n",
      "0 | 1 | 0 | 0\n",
      "0 | 1 | 1 | 0\n",
      "1 | 0 | 0 | 0\n",
      "1 | 0 | 1 | 0\n",
      "1 | 1 | 0 | 0\n",
      "1 | 1 | 1 | 1\n",
      "Threshold for three input and gate is  3\n"
     ]
    }
   ],
   "source": [
    "# Three input and gate\n",
    "print(\"x1| x2| x3| y\")\n",
    "for x1 in [0,1]:\n",
    "    for x2 in [0,1]:\n",
    "        for x3 in [0,1]:\n",
    "            if (x1 and x2 and x3):\n",
    "                y=1\n",
    "            else:\n",
    "                y=0\n",
    "            print(f\"{x1} | {x2} | {x3} | {y}\")\n",
    "            if y==1:\n",
    "                thres = x1+x2+x3\n",
    "                print(\"Threshold for three input and gate is \",thres)\n"
   ]
  },
  {
   "cell_type": "markdown",
   "id": "cf829b35",
   "metadata": {},
   "source": [
    "# OR GATE"
   ]
  },
  {
   "cell_type": "code",
   "execution_count": 5,
   "id": "ed99b051",
   "metadata": {},
   "outputs": [
    {
     "name": "stdout",
     "output_type": "stream",
     "text": [
      "x1| x2| y\n",
      "0 | 0 | 0\n",
      "0 | 1 | 1\n",
      "1 | 0 | 1\n",
      "1 | 1 | 1\n",
      "Threhold for two input or gate is greater than equal to 1\n"
     ]
    }
   ],
   "source": [
    "# two input or gate\n",
    "h = []\n",
    "print(\"x1| x2| y\")\n",
    "for x1 in range(0,2):\n",
    "    for x2 in range(0,2):\n",
    "        if (x1 or x2):\n",
    "            flag=1\n",
    "            y=1\n",
    "        else:\n",
    "            y= 0\n",
    "        print(f\"{x1} | {x2} | {y}\")\n",
    "        if y==1:\n",
    "            thresh = x1+x2\n",
    "            h.append(thresh)\n",
    "thres = min(h)\n",
    "print(\"Threhold for two input or gate is greater than equal to\",thres)\n"
   ]
  },
  {
   "cell_type": "code",
   "execution_count": 6,
   "id": "d2a61bc1",
   "metadata": {},
   "outputs": [
    {
     "name": "stdout",
     "output_type": "stream",
     "text": [
      "x1| x2| x3| y\n",
      "0 | 0 | 0 | 0\n",
      "0 | 0 | 1 | 1\n",
      "0 | 1 | 0 | 1\n",
      "0 | 1 | 1 | 1\n",
      "1 | 0 | 0 | 1\n",
      "1 | 0 | 1 | 1\n",
      "1 | 1 | 0 | 1\n",
      "1 | 1 | 1 | 1\n",
      "Threhold for three input or gate is greater than equal to 1\n"
     ]
    }
   ],
   "source": [
    "# Three input and gate\n",
    "high= []\n",
    "print(\"x1| x2| x3| y\")\n",
    "for x1 in [0,1]:\n",
    "    for x2 in [0,1]:\n",
    "        for x3 in [0,1]:\n",
    "            if (x1 or x2 or x3):\n",
    "                y=1\n",
    "            else:\n",
    "                y=0\n",
    "            print(f\"{x1} | {x2} | {x3} | {y}\")\n",
    "            if y==1:\n",
    "                thres = x1+x2+x3\n",
    "                high.append(thres)\n",
    "thres =min(high)\n",
    "print(\"Threhold for three input or gate is greater than equal to\",thres)"
   ]
  },
  {
   "cell_type": "markdown",
   "id": "6fc20ae6",
   "metadata": {},
   "source": [
    "# NAND GATE"
   ]
  },
  {
   "cell_type": "code",
   "execution_count": 7,
   "id": "33a6934c",
   "metadata": {},
   "outputs": [
    {
     "name": "stdout",
     "output_type": "stream",
     "text": [
      "0 | 0 | 1\n",
      "0 | 1 | 1\n",
      "1 | 0 | 1\n",
      "1 | 1 | 0\n",
      "The threshold for two input nand gate is greater than equal to 0\n"
     ]
    }
   ],
   "source": [
    "# two input NAND Gate\n",
    "high=[]\n",
    "for x1 in range(0,2):\n",
    "    for x2 in range(0,2):\n",
    "        if (x1 and x2):\n",
    "            y=0\n",
    "        else:\n",
    "            y= 1\n",
    "        print(f\"{x1} | {x2} | {y}\")\n",
    "        if y==1:\n",
    "            thres= x1+x2\n",
    "            high.append(thres)\n",
    "\n",
    "print(\"The threshold for two input nand gate is greater than equal to\",min(high))"
   ]
  },
  {
   "cell_type": "code",
   "execution_count": 8,
   "id": "8e4e7b8a",
   "metadata": {},
   "outputs": [
    {
     "name": "stdout",
     "output_type": "stream",
     "text": [
      "x1| x2| x3| y\n",
      "0 | 0 | 0 | 0\n",
      "0 | 0 | 1 | 1\n",
      "0 | 1 | 0 | 1\n",
      "0 | 1 | 1 | 1\n",
      "1 | 0 | 0 | 1\n",
      "1 | 0 | 1 | 1\n",
      "1 | 1 | 0 | 1\n",
      "1 | 1 | 1 | 1\n",
      "Threhold for three input or gate is greater than equal to 1\n"
     ]
    }
   ],
   "source": [
    "# Three input and gate\n",
    "high= []\n",
    "print(\"x1| x2| x3| y\")\n",
    "for x1 in [0,1]:\n",
    "    for x2 in [0,1]:\n",
    "        for x3 in [0,1]:\n",
    "            if (x1 or x2 or x3):\n",
    "                y=1\n",
    "            else:\n",
    "                y=0\n",
    "            print(f\"{x1} | {x2} | {x3} | {y}\")\n",
    "            if y==1:\n",
    "                thres = x1+x2+x3\n",
    "                high.append(thres)\n",
    "thres =min(high)\n",
    "print(\"Threhold for three input or gate is greater than equal to\",thres)"
   ]
  },
  {
   "cell_type": "markdown",
   "id": "8bf3e703",
   "metadata": {},
   "source": [
    "# NOR GATE"
   ]
  },
  {
   "cell_type": "code",
   "execution_count": 9,
   "id": "65df5d9f",
   "metadata": {},
   "outputs": [
    {
     "name": "stdout",
     "output_type": "stream",
     "text": [
      "x1| x2| y\n",
      "0 | 0 | 1\n",
      "0 | 1 | 0\n",
      "1 | 0 | 0\n",
      "1 | 1 | 0\n",
      "Threhold for two input or gate is greater than equal to 0\n"
     ]
    }
   ],
   "source": [
    "# two input or gate\n",
    "h = []\n",
    "print(\"x1| x2| y\")\n",
    "for x1 in range(0,2):\n",
    "    for x2 in range(0,2):\n",
    "        if (x1 or x2):\n",
    "            y=0\n",
    "        else:\n",
    "            y= 1\n",
    "        print(f\"{x1} | {x2} | {y}\")\n",
    "        if y==1:\n",
    "            thresh = x1+x2\n",
    "            h.append(thresh)\n",
    "thres = min(h)\n",
    "print(\"Threhold for two input or gate is greater than equal to\",thres)"
   ]
  },
  {
   "cell_type": "code",
   "execution_count": 10,
   "id": "4a64a390",
   "metadata": {},
   "outputs": [
    {
     "name": "stdout",
     "output_type": "stream",
     "text": [
      "x1| x2| x3| y\n",
      "0 | 0 | 0 | 1\n",
      "0 | 0 | 1 | 0\n",
      "0 | 1 | 0 | 0\n",
      "0 | 1 | 1 | 0\n",
      "1 | 0 | 0 | 0\n",
      "1 | 0 | 1 | 0\n",
      "1 | 1 | 0 | 0\n",
      "1 | 1 | 1 | 0\n",
      "Threhold for three input or gate is greater than equal to 0\n"
     ]
    }
   ],
   "source": [
    "# Three input and gate\n",
    "high= []\n",
    "print(\"x1| x2| x3| y\")\n",
    "for x1 in [0,1]:\n",
    "    for x2 in [0,1]:\n",
    "        for x3 in [0,1]:\n",
    "            if (x1 or x2 or x3):\n",
    "                y=0\n",
    "            else:\n",
    "                y=1\n",
    "            print(f\"{x1} | {x2} | {x3} | {y}\")\n",
    "            if y==1:\n",
    "                thres = x1+x2+x3\n",
    "                high.append(thres)\n",
    "thres =min(high)\n",
    "print(\"Threhold for three input or gate is greater than equal to\",thres)"
   ]
  },
  {
   "cell_type": "markdown",
   "id": "8ad80afb",
   "metadata": {},
   "source": [
    "# XOR GATE"
   ]
  },
  {
   "cell_type": "code",
   "execution_count": 11,
   "id": "78140a03",
   "metadata": {},
   "outputs": [
    {
     "name": "stdout",
     "output_type": "stream",
     "text": [
      "x1| x2| y\n",
      "0 | 0 | 0\n",
      "0 | 1 | 1\n",
      "1 | 0 | 1\n",
      "1 | 1 | 0\n",
      "Threhold for two input or gate is greater than equal to 1\n"
     ]
    }
   ],
   "source": [
    "# two input or gate\n",
    "h = []\n",
    "print(\"x1| x2| y\")\n",
    "for x1 in range(0,2):\n",
    "    for x2 in range(0,2):\n",
    "        if (x1 == x2):\n",
    "            y=0\n",
    "        else:\n",
    "            y= 1\n",
    "        print(f\"{x1} | {x2} | {y}\")\n",
    "        if y==1:\n",
    "            thresh = x1+x2\n",
    "            h.append(thresh)\n",
    "thres = min(h)\n",
    "print(\"Threhold for two input or gate is greater than equal to\",thres)"
   ]
  },
  {
   "cell_type": "code",
   "execution_count": 12,
   "id": "edcc8126",
   "metadata": {},
   "outputs": [
    {
     "name": "stdout",
     "output_type": "stream",
     "text": [
      "x1| x2| x3| y\n",
      "0 | 0 | 0 | 0\n",
      "0 | 0 | 1 | 1\n",
      "0 | 1 | 0 | 1\n",
      "0 | 1 | 1 | 0\n",
      "1 | 0 | 0 | 1\n",
      "1 | 0 | 1 | 0\n",
      "1 | 1 | 0 | 0\n",
      "1 | 1 | 1 | 0\n",
      "Threhold for three input or gate is greater than equal to 1\n"
     ]
    }
   ],
   "source": [
    "# Three input and gate\n",
    "high= []\n",
    "print(\"x1| x2| x3| y\")\n",
    "for x1 in [0,1]:\n",
    "    for x2 in [0,1]:\n",
    "        for x3 in [0,1]:\n",
    "            if ((x1 + x2 + x3)%2==0):\n",
    "                y=0\n",
    "            elif(x1==x2==x3==1):\n",
    "                y=0\n",
    "            \n",
    "            else:\n",
    "                y=1\n",
    "            print(f\"{x1} | {x2} | {x3} | {y}\")\n",
    "            if y==1:\n",
    "                thres = x1+x2+x3\n",
    "                high.append(thres)\n",
    "thres =min(high)\n",
    "print(\"Threhold for three input or gate is greater than equal to\",thres)"
   ]
  }
 ],
 "metadata": {
  "kernelspec": {
   "display_name": "Python 3 (ipykernel)",
   "language": "python",
   "name": "python3"
  },
  "language_info": {
   "codemirror_mode": {
    "name": "ipython",
    "version": 3
   },
   "file_extension": ".py",
   "mimetype": "text/x-python",
   "name": "python",
   "nbconvert_exporter": "python",
   "pygments_lexer": "ipython3",
   "version": "3.11.5"
  }
 },
 "nbformat": 4,
 "nbformat_minor": 5
}
